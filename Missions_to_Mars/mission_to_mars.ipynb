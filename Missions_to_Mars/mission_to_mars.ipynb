{
 "cells": [
  {
   "cell_type": "code",
   "execution_count": null,
   "id": "469ad012",
   "metadata": {},
   "outputs": [],
   "source": [
    "from bs4 import BeautifulSoup as bs\n",
    "import pandas as pd\n",
    "import requests\n",
    "import pymongo\n",
    "from flask import Flask, render_template, redirect\n",
    "from flask_pymongo import PyMongo\n",
    "from splinter import Browser\n",
    "from webdriver_manager.chrome import ChromeDriverManager\n",
    "import time"
   ]
  },
  {
   "cell_type": "code",
   "execution_count": null,
   "id": "9026dd15-485c-4005-8ac8-a0c842892573",
   "metadata": {},
   "outputs": [],
   "source": [
    "# Setup splinter\n",
    "executable_path = {'executable_path': ChromeDriverManager().install()}\n",
    "browser = Browser('chrome', **executable_path, headless=False)"
   ]
  },
  {
   "cell_type": "code",
   "execution_count": null,
   "id": "60e421dc",
   "metadata": {},
   "outputs": [],
   "source": [
    "# NASA MARS NEWS- scrape Mars News Site and collect latest news title and paragraph text. Assign text to\n",
    "# variables for later reference. "
   ]
  },
  {
   "cell_type": "code",
   "execution_count": null,
   "id": "6e4b17c0",
   "metadata": {},
   "outputs": [],
   "source": [
    "time.sleep(2)\n",
    "\n",
    "news_url = 'https://redplanetscience.com'\n",
    "\n",
    "browser.visit(news_url)\n",
    "html= browser.html\n",
    "news_soup = bs(html, 'html.parser')"
   ]
  },
  {
   "cell_type": "code",
   "execution_count": null,
   "id": "a306acce-64f4-4572-94c1-a472bacf45ea",
   "metadata": {},
   "outputs": [],
   "source": [
    "# Retrieve the latest news title and paragraph\n",
    "title = news_soup.find_all('div', class_='content_title')[0].text\n",
    "\n",
    "title"
   ]
  },
  {
   "cell_type": "code",
   "execution_count": null,
   "id": "10a83f4d",
   "metadata": {},
   "outputs": [],
   "source": [
    "paragraph = news_soup.find_all('div', class_=\"article_teaser_body\")[0].text\n",
    "\n",
    "paragraph"
   ]
  },
  {
   "cell_type": "code",
   "execution_count": null,
   "id": "766d9f94-b870-465b-aebf-39579af25602",
   "metadata": {},
   "outputs": [],
   "source": [
    "###### JPL MARS SPACE IMAGES - FEATURED IMAGE ######## \n",
    "## Use splinter to navigate the site and find the image url for the current \n",
    "##Featured Mars Image and assign the url string to a variable called featured_image_url.\n",
    "\n",
    "time.sleep(2)\n",
    "\n",
    "jpl_url = 'https://spaceimages-mars.com'\n",
    "\n",
    "browser.visit(jpl_url)\n",
    "\n",
    "html= browser.html\n",
    "\n",
    "jpl_soup = bs (html,'html.parser')\n"
   ]
  },
  {
   "cell_type": "code",
   "execution_count": null,
   "id": "3e0242fa-9944-4bc3-8e68-0124759da407",
   "metadata": {},
   "outputs": [],
   "source": [
    "# Retrieve featured image link\n",
    "relative_image_path = jpl_soup.find_all('img', class_='headerimage fade-in')[0][\"src\"]\n",
    "featured_image_url = jpl_url + '/' + relative_image_path\n",
    "print(featured_image_url)"
   ]
  },
  {
   "cell_type": "code",
   "execution_count": null,
   "id": "897fee07-2a38-486d-818a-1716cffc42c8",
   "metadata": {},
   "outputs": [],
   "source": [
    "### MARS FACTS ######\n",
    "## use Pandas to scrape the table containing facts about the planet \n",
    "\n",
    "facts_url = 'https://galaxyfacts-mars.com'\n"
   ]
  },
  {
   "cell_type": "code",
   "execution_count": null,
   "id": "ec230135-5ec7-42c6-b5a4-d7c9a97a1baf",
   "metadata": {},
   "outputs": [],
   "source": [
    "table_df = pd.read_html(facts_url)[1]\n",
    "table_df"
   ]
  },
  {
   "cell_type": "code",
   "execution_count": null,
   "id": "d47f9db8-6844-4fd2-bd7d-09ddf539a490",
   "metadata": {},
   "outputs": [],
   "source": [
    "## use Pandas to convert the data to an HTML table string\n",
    "\n",
    "html_table = table_df.to_html()\n",
    "html_table"
   ]
  },
  {
   "cell_type": "code",
   "execution_count": 126,
   "id": "420d12b6-87a3-4c8e-ba25-c7c11d5faf9c",
   "metadata": {},
   "outputs": [],
   "source": [
    "#### MARS HEMISPHERES ####\n",
    "\n",
    "##save image url string for full res hemisphere image & hemisphere title containing the name. \n",
    "###use a python dictionary to store the data using the keys img_url and title\n",
    "\n",
    "time.sleep(2)\n",
    "\n",
    "hems_url = 'https://marshemispheres.com/'\n",
    "\n",
    "browser.visit(hems_url)\n",
    "\n",
    "hems_html = browser.html\n",
    "\n",
    "hems_soup = bs(hems_html, 'html.parser')"
   ]
  },
  {
   "cell_type": "code",
   "execution_count": 129,
   "id": "9148ae64-2ffc-4435-aa2a-2a8a15bf81c4",
   "metadata": {},
   "outputs": [
    {
     "name": "stdout",
     "output_type": "stream",
     "text": [
      "[{'Title': 'Cerberus Hemisphere Enhanced', 'Image': 'images/full.jpg'}, {'Title': 'Schiaparelli Hemisphere Enhanced', 'Image': 'images/schiaparelli_enhanced-full.jpg'}, {'Title': 'Syrtis Major Hemisphere Enhanced', 'Image': 'images/syrtis_major_enhanced-full.jpg'}, {'Title': 'Valles Marineris Hemisphere Enhanced', 'Image': 'images/valles_marineris_enhanced-full.jpg'}]\n"
     ]
    }
   ],
   "source": [
    "all_hems= hems_soup.find('div', class_='collapsible results')\n",
    "mars_hems = all_hems.find_all('div', class_='item')\n",
    "\n",
    "hems_img_urls = []\n",
    "\n",
    "#loop through hemispheres to get title and images\n",
    "\n",
    "for i in mars_hems:\n",
    "    ##title\n",
    "    hemisphere = i.find('div', class_='description')\n",
    "    title = hemisphere.h3.text\n",
    "    \n",
    "    ##full res img\n",
    "    hems_img = hemisphere.a['href']\n",
    "    browser.visit(hems_url + hems_img)\n",
    "    \n",
    "    img_html = browser.html\n",
    "    img_soup = bs(img_html, 'html.parser')\n",
    "    \n",
    "    img_link = img_soup.find('div', class_='downloads')\n",
    "    img_url = img_link.find('li').a['href']\n",
    "    \n",
    "    ##dictionary\n",
    "    \n",
    "    img_dict = {\n",
    "        'Title': title, \n",
    "        'Image': img_url\n",
    "    }\n",
    "    \n",
    "    hems_img_urls.append(img_dict)\n",
    "    \n",
    "print(hems_img_urls)\n",
    "    "
   ]
  },
  {
   "cell_type": "code",
   "execution_count": null,
   "id": "b4461ea9-cb1b-4136-888d-1df951c7ee80",
   "metadata": {},
   "outputs": [],
   "source": []
  }
 ],
 "metadata": {
  "kernelspec": {
   "display_name": "Python 3",
   "language": "python",
   "name": "python3"
  },
  "language_info": {
   "codemirror_mode": {
    "name": "ipython",
    "version": 3
   },
   "file_extension": ".py",
   "mimetype": "text/x-python",
   "name": "python",
   "nbconvert_exporter": "python",
   "pygments_lexer": "ipython3",
   "version": "3.8.8"
  }
 },
 "nbformat": 4,
 "nbformat_minor": 5
}
