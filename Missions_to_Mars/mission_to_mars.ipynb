{
 "cells": [
  {
   "cell_type": "code",
   "execution_count": 1,
   "id": "32e0ac22",
   "metadata": {},
   "outputs": [],
   "source": [
    "from bs4 import BeautifulSoup as bs\n",
    "import pandas as pd\n",
    "import requests\n",
    "from splinter import Browser\n",
    "from webdriver_manager.chrome import ChromeDriverManager\n",
    "import time"
   ]
  },
  {
   "cell_type": "code",
   "execution_count": 2,
   "id": "e57e96a1",
   "metadata": {},
   "outputs": [
    {
     "name": "stderr",
     "output_type": "stream",
     "text": [
      "\n",
      "\n",
      "====== WebDriver manager ======\n",
      "Current google-chrome version is 92.0.4515\n",
      "Get LATEST driver version for 92.0.4515\n",
      "Get LATEST driver version for 92.0.4515\n",
      "Trying to download new driver from https://chromedriver.storage.googleapis.com/92.0.4515.107/chromedriver_mac64.zip\n",
      "Driver has been saved in cache [/Users/emilyzinn/.wdm/drivers/chromedriver/mac64/92.0.4515.107]\n"
     ]
    }
   ],
   "source": [
    "# Set up splinter\n",
    "executable_path = {'executable_path': ChromeDriverManager().install()}\n",
    "browser = Browser('chrome', **executable_path, headless=False)"
   ]
  },
  {
   "cell_type": "code",
   "execution_count": 3,
   "id": "54fabb0b",
   "metadata": {},
   "outputs": [],
   "source": [
    "# NASA MARS NEWS- scrape Mars News Site and collect latest news title and paragraph text. Assign text to\n",
    "# variables for later reference. "
   ]
  },
  {
   "cell_type": "code",
   "execution_count": 4,
   "id": "a7d2561c",
   "metadata": {},
   "outputs": [],
   "source": [
    "time.sleep(2)\n",
    "\n",
    "news_url = 'https://redplanetscience.com'\n",
    "\n",
    "browser.visit(news_url)\n",
    "html= browser.html\n",
    "news_soup = bs(html, 'html.parser')"
   ]
  },
  {
   "cell_type": "code",
   "execution_count": 5,
   "id": "22df827c",
   "metadata": {},
   "outputs": [
    {
     "data": {
      "text/plain": [
       "'NASA Establishes Board to Initially Review Mars Sample Return Plans'"
      ]
     },
     "execution_count": 5,
     "metadata": {},
     "output_type": "execute_result"
    }
   ],
   "source": [
    "# Retrieve the latest news title and paragraph\n",
    "n_title = news_soup.find_all('div', class_='content_title')[0].text\n",
    "\n",
    "n_title"
   ]
  },
  {
   "cell_type": "code",
   "execution_count": 6,
   "id": "904a363a",
   "metadata": {},
   "outputs": [
    {
     "data": {
      "text/plain": [
       "'The board will assist with analysis of current plans and goals for one of the most difficult missions humanity has ever undertaken.'"
      ]
     },
     "execution_count": 6,
     "metadata": {},
     "output_type": "execute_result"
    }
   ],
   "source": [
    "n_paragraph = news_soup.find_all('div', class_=\"article_teaser_body\")[0].text\n",
    "\n",
    "n_paragraph"
   ]
  },
  {
   "cell_type": "code",
   "execution_count": 7,
   "id": "faa1b66e",
   "metadata": {},
   "outputs": [],
   "source": [
    "###### JPL MARS SPACE IMAGES - FEATURED IMAGE ######## \n",
    "## Use splinter to navigate the site and find the image url for the current \n",
    "##Featured Mars Image and assign the url string to a variable called featured_image_url.\n",
    "\n",
    "time.sleep(2)\n",
    "\n",
    "jpl_url = 'https://spaceimages-mars.com/'\n",
    "\n",
    "browser.visit(jpl_url)\n",
    "\n",
    "html= browser.html\n",
    "\n",
    "jpl_soup = bs (html,'html.parser')\n"
   ]
  },
  {
   "cell_type": "code",
   "execution_count": 8,
   "id": "a5da43b5",
   "metadata": {},
   "outputs": [
    {
     "name": "stdout",
     "output_type": "stream",
     "text": [
      "https://spaceimages-mars.com/image/featured/mars2.jpg\n"
     ]
    }
   ],
   "source": [
    "# Retrieve featured image link\n",
    "relative_image_path = jpl_soup.find_all('img', class_='headerimage fade-in')[0][\"src\"]\n",
    "featured_image_url = jpl_url + relative_image_path\n",
    "print(featured_image_url)"
   ]
  },
  {
   "cell_type": "code",
   "execution_count": 9,
   "id": "c98e42ac",
   "metadata": {},
   "outputs": [],
   "source": [
    "### MARS FACTS ######\n",
    "## use Pandas to scrape the table containing facts about the planet \n",
    "\n",
    "facts_url = 'https://galaxyfacts-mars.com'\n"
   ]
  },
  {
   "cell_type": "code",
   "execution_count": 10,
   "id": "12bd4cee",
   "metadata": {},
   "outputs": [
    {
     "data": {
      "text/html": [
       "<div>\n",
       "<style scoped>\n",
       "    .dataframe tbody tr th:only-of-type {\n",
       "        vertical-align: middle;\n",
       "    }\n",
       "\n",
       "    .dataframe tbody tr th {\n",
       "        vertical-align: top;\n",
       "    }\n",
       "\n",
       "    .dataframe thead th {\n",
       "        text-align: right;\n",
       "    }\n",
       "</style>\n",
       "<table border=\"1\" class=\"dataframe\">\n",
       "  <thead>\n",
       "    <tr style=\"text-align: right;\">\n",
       "      <th></th>\n",
       "      <th>0</th>\n",
       "      <th>1</th>\n",
       "    </tr>\n",
       "  </thead>\n",
       "  <tbody>\n",
       "    <tr>\n",
       "      <th>0</th>\n",
       "      <td>Equatorial Diameter:</td>\n",
       "      <td>6,792 km</td>\n",
       "    </tr>\n",
       "    <tr>\n",
       "      <th>1</th>\n",
       "      <td>Polar Diameter:</td>\n",
       "      <td>6,752 km</td>\n",
       "    </tr>\n",
       "    <tr>\n",
       "      <th>2</th>\n",
       "      <td>Mass:</td>\n",
       "      <td>6.39 × 10^23 kg (0.11 Earths)</td>\n",
       "    </tr>\n",
       "    <tr>\n",
       "      <th>3</th>\n",
       "      <td>Moons:</td>\n",
       "      <td>2 ( Phobos &amp; Deimos )</td>\n",
       "    </tr>\n",
       "    <tr>\n",
       "      <th>4</th>\n",
       "      <td>Orbit Distance:</td>\n",
       "      <td>227,943,824 km (1.38 AU)</td>\n",
       "    </tr>\n",
       "    <tr>\n",
       "      <th>5</th>\n",
       "      <td>Orbit Period:</td>\n",
       "      <td>687 days (1.9 years)</td>\n",
       "    </tr>\n",
       "    <tr>\n",
       "      <th>6</th>\n",
       "      <td>Surface Temperature:</td>\n",
       "      <td>-87 to -5 °C</td>\n",
       "    </tr>\n",
       "    <tr>\n",
       "      <th>7</th>\n",
       "      <td>First Record:</td>\n",
       "      <td>2nd millennium BC</td>\n",
       "    </tr>\n",
       "    <tr>\n",
       "      <th>8</th>\n",
       "      <td>Recorded By:</td>\n",
       "      <td>Egyptian astronomers</td>\n",
       "    </tr>\n",
       "  </tbody>\n",
       "</table>\n",
       "</div>"
      ],
      "text/plain": [
       "                      0                              1\n",
       "0  Equatorial Diameter:                       6,792 km\n",
       "1       Polar Diameter:                       6,752 km\n",
       "2                 Mass:  6.39 × 10^23 kg (0.11 Earths)\n",
       "3                Moons:          2 ( Phobos & Deimos )\n",
       "4       Orbit Distance:       227,943,824 km (1.38 AU)\n",
       "5         Orbit Period:           687 days (1.9 years)\n",
       "6  Surface Temperature:                   -87 to -5 °C\n",
       "7         First Record:              2nd millennium BC\n",
       "8          Recorded By:           Egyptian astronomers"
      ]
     },
     "execution_count": 10,
     "metadata": {},
     "output_type": "execute_result"
    }
   ],
   "source": [
    "table_df = pd.read_html(facts_url)[1]\n",
    "table_df"
   ]
  },
  {
   "cell_type": "code",
   "execution_count": 11,
   "id": "0ae8356e",
   "metadata": {},
   "outputs": [
    {
     "data": {
      "text/plain": [
       "'<table border=\"1\" class=\"dataframe\">\\n  <thead>\\n    <tr style=\"text-align: right;\">\\n      <th></th>\\n      <th>0</th>\\n      <th>1</th>\\n    </tr>\\n  </thead>\\n  <tbody>\\n    <tr>\\n      <th>0</th>\\n      <td>Equatorial Diameter:</td>\\n      <td>6,792 km</td>\\n    </tr>\\n    <tr>\\n      <th>1</th>\\n      <td>Polar Diameter:</td>\\n      <td>6,752 km</td>\\n    </tr>\\n    <tr>\\n      <th>2</th>\\n      <td>Mass:</td>\\n      <td>6.39 × 10^23 kg (0.11 Earths)</td>\\n    </tr>\\n    <tr>\\n      <th>3</th>\\n      <td>Moons:</td>\\n      <td>2 ( Phobos &amp; Deimos )</td>\\n    </tr>\\n    <tr>\\n      <th>4</th>\\n      <td>Orbit Distance:</td>\\n      <td>227,943,824 km (1.38 AU)</td>\\n    </tr>\\n    <tr>\\n      <th>5</th>\\n      <td>Orbit Period:</td>\\n      <td>687 days (1.9 years)</td>\\n    </tr>\\n    <tr>\\n      <th>6</th>\\n      <td>Surface Temperature:</td>\\n      <td>-87 to -5 °C</td>\\n    </tr>\\n    <tr>\\n      <th>7</th>\\n      <td>First Record:</td>\\n      <td>2nd millennium BC</td>\\n    </tr>\\n    <tr>\\n      <th>8</th>\\n      <td>Recorded By:</td>\\n      <td>Egyptian astronomers</td>\\n    </tr>\\n  </tbody>\\n</table>'"
      ]
     },
     "execution_count": 11,
     "metadata": {},
     "output_type": "execute_result"
    }
   ],
   "source": [
    "## use Pandas to convert the data to an HTML table string\n",
    "\n",
    "html_table = table_df.to_html()\n",
    "html_table"
   ]
  },
  {
   "cell_type": "code",
   "execution_count": 12,
   "id": "79d77e38",
   "metadata": {},
   "outputs": [],
   "source": [
    "#### MARS HEMISPHERES ####\n",
    "\n",
    "##save image url string for full res hemisphere image & hemisphere title containing the name. \n",
    "###use a python dictionary to store the data using the keys img_url and title\n",
    "\n",
    "time.sleep(2)\n",
    "\n",
    "hems_url = 'https://marshemispheres.com/'\n",
    "\n",
    "browser.visit(hems_url)\n",
    "\n",
    "hems_html = browser.html\n",
    "\n",
    "hems_soup = bs(hems_html, 'html.parser')"
   ]
  },
  {
   "cell_type": "code",
   "execution_count": 13,
   "id": "39284796",
   "metadata": {},
   "outputs": [
    {
     "name": "stdout",
     "output_type": "stream",
     "text": [
      "[{'Title': 'Cerberus Hemisphere Enhanced', 'Image': 'images/full.jpg'}, {'Title': 'Schiaparelli Hemisphere Enhanced', 'Image': 'images/schiaparelli_enhanced-full.jpg'}, {'Title': 'Syrtis Major Hemisphere Enhanced', 'Image': 'images/syrtis_major_enhanced-full.jpg'}, {'Title': 'Valles Marineris Hemisphere Enhanced', 'Image': 'images/valles_marineris_enhanced-full.jpg'}]\n"
     ]
    }
   ],
   "source": [
    "all_hems= hems_soup.find('div', class_='collapsible results')\n",
    "mars_hems = all_hems.find_all('div', class_='item')\n",
    "\n",
    "hems_img_urls = []\n",
    "\n",
    "#loop through hemispheres to get title and images\n",
    "\n",
    "for i in mars_hems:\n",
    "    ##title\n",
    "    hemisphere = i.find('div', class_='description')\n",
    "    title = hemisphere.h3.text\n",
    "    \n",
    "    ##full res img\n",
    "    hems_img = hemisphere.a['href']\n",
    "    browser.visit(hems_url + hems_img)\n",
    "    \n",
    "    img_html = browser.html\n",
    "    img_soup = bs(img_html, 'html.parser')\n",
    "    \n",
    "    img_link = img_soup.find('div', class_='downloads')\n",
    "    img_url = img_link.find('li').a['href']\n",
    "    \n",
    "    ##dictionary\n",
    "    \n",
    "    img_dict = {\n",
    "        'Title': title, \n",
    "        'Image': img_url\n",
    "    }\n",
    "    \n",
    "    hems_img_urls.append(img_dict)\n",
    "    \n",
    "print(hems_img_urls)\n",
    "    "
   ]
  },
  {
   "cell_type": "code",
   "execution_count": null,
   "id": "30005d37-e63e-4108-84df-3f637f281730",
   "metadata": {},
   "outputs": [],
   "source": []
  }
 ],
 "metadata": {
  "interpreter": {
   "hash": "dca0ade3e726a953b501b15e8e990130d2b7799f14cfd9f4271676035ebe5511"
  },
  "kernelspec": {
   "display_name": "Python 3",
   "language": "python",
   "name": "python3"
  },
  "language_info": {
   "codemirror_mode": {
    "name": "ipython",
    "version": 3
   },
   "file_extension": ".py",
   "mimetype": "text/x-python",
   "name": "python",
   "nbconvert_exporter": "python",
   "pygments_lexer": "ipython3",
   "version": "3.8.8"
  }
 },
 "nbformat": 4,
 "nbformat_minor": 5
}
